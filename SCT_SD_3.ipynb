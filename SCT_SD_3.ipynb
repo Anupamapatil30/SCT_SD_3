{
  "nbformat": 4,
  "nbformat_minor": 0,
  "metadata": {
    "colab": {
      "provenance": []
    },
    "kernelspec": {
      "name": "python3",
      "display_name": "Python 3"
    },
    "language_info": {
      "name": "python"
    }
  },
  "cells": [
    {
      "cell_type": "code",
      "source": [
        "def is_valid_move(grid, row, col, num):\n",
        "    \"\"\"\n",
        "    Check if placing 'num' at grid[row][col] is valid.\n",
        "    \"\"\"\n",
        "    # Check row\n",
        "    for x in range(3):\n",
        "        if grid[row][x] == num:\n",
        "            return False\n",
        "\n",
        "    # Check column\n",
        "    for y in range(3):\n",
        "        if grid[y][col] == num:\n",
        "            return False\n",
        "\n",
        "    return True\n",
        "\n",
        "def solve_sudoku(grid):\n",
        "    \"\"\"\n",
        "    Solves the 3x3 Sudoku puzzle using backtracking.\n",
        "    \"\"\"\n",
        "    for row in range(3):\n",
        "        for col in range(3):\n",
        "            # Find an empty cell\n",
        "            if grid[row][col] == 0:\n",
        "                for num in range(1, 4):  # Numbers 1 to 3 for a 3x3 grid\n",
        "                    if is_valid_move(grid, row, col, num):\n",
        "                        # Place the number\n",
        "                        grid[row][col] = num\n",
        "\n",
        "                        # Recur to solve the rest of the grid\n",
        "                        if solve_sudoku(grid):\n",
        "                            return True\n",
        "\n",
        "                        # Backtrack if placing num doesn't lead to a solution\n",
        "                        grid[row][col] = 0\n",
        "\n",
        "                # Return False if no valid number can be placed\n",
        "                return False\n",
        "\n",
        "    # Return True if the grid is completely solved\n",
        "    return True\n",
        "\n",
        "def print_grid(grid):\n",
        "    \"\"\"\n",
        "    Prints the 3x3 Sudoku grid.\n",
        "    \"\"\"\n",
        "    for row in grid:\n",
        "        print(\" \".join(str(num) for num in row))\n",
        "\n",
        "# Example 3x3 Sudoku puzzle (0 represents empty cells)\n",
        "sudoku_grid = [\n",
        "    [1, 0, 3],\n",
        "    [2, 0, 0],\n",
        "    [0, 0, 4]\n",
        "]\n",
        "\n",
        "print(\"Unsolved Sudoku:\")\n",
        "print_grid(sudoku_grid)\n",
        "\n",
        "if solve_sudoku(sudoku_grid):\n",
        "    print(\"\\nSolved Sudoku:\")\n",
        "    print_grid(sudoku_grid)\n",
        "else:\n",
        "    print(\"\\nNo solution exists.\")\n"
      ],
      "metadata": {
        "colab": {
          "base_uri": "https://localhost:8080/"
        },
        "id": "8_I7WH0jBBfk",
        "outputId": "24d0638c-7911-4fe1-b8b8-40acd1859094"
      },
      "execution_count": 4,
      "outputs": [
        {
          "output_type": "stream",
          "name": "stdout",
          "text": [
            "Unsolved Sudoku:\n",
            "1 0 3\n",
            "2 0 0\n",
            "0 0 4\n",
            "\n",
            "Solved Sudoku:\n",
            "1 2 3\n",
            "2 3 1\n",
            "3 1 4\n"
          ]
        }
      ]
    }
  ]
}